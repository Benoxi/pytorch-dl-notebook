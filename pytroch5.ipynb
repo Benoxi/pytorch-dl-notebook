{
 "cells": [
  {
   "cell_type": "code",
   "execution_count": 4,
   "metadata": {},
   "outputs": [
    {
     "name": "stdout",
     "output_type": "stream",
     "text": [
      "Kaggle/PetImages/Cat\n"
     ]
    },
    {
     "name": "stderr",
     "output_type": "stream",
     "text": [
      "100%|██████████| 12501/12501 [00:41<00:00, 304.43it/s]\n"
     ]
    },
    {
     "name": "stdout",
     "output_type": "stream",
     "text": [
      "Kaggle/PetImages/Dog\n"
     ]
    },
    {
     "name": "stderr",
     "output_type": "stream",
     "text": [
      "100%|██████████| 12501/12501 [00:41<00:00, 298.67it/s]\n"
     ]
    },
    {
     "name": "stdout",
     "output_type": "stream",
     "text": [
      "Cats: 12476\n",
      "Dogs: 12470\n"
     ]
    }
   ],
   "source": [
    "# CONCOLUTIONAR NN\n",
    "# The difference between NN and CNN is that uses the convolution to locate features of an image. And it\n",
    "# uses multiple instances of this convolution that enable it to condense for example an image.\n",
    "# these convolutions are done by making a smaller square on the image, moving it around and saving each piece.\n",
    "# Then the machine takes each small features and uses them to create a new condensed version of this image\n",
    "# using the pieces (features). Then follows a process of polling where the maximum value inside each window\n",
    "# is chosen and then replaces the part of image with this piece.\n",
    "# So in summary CNN is drastically simplifying the image and looking for features in it.\n",
    "# Simple: Reduces your image to simple building blocks and then finds patterns of these blocks given how many\n",
    "# layers you have.\n",
    "\n",
    "import os\n",
    "import cv2\n",
    "import numpy as np\n",
    "from tqdm import tqdm\n",
    "\n",
    "REBUILD_DATA = False\n",
    "\n",
    "# We generally don't need a class for this, but in our case (image processing) there are quite a few steps\n",
    "# we are/have to make like the same methods and functions...\n",
    "# Important note to make here is that for iamge classification many trick can be used to make our dataset\n",
    "# more rounded and higher the accuarcy of generalization. These tricks involve: croping images, resizing\n",
    "# them and adding white spaces or even rotating them and using the reotated versions as new images which\n",
    "# can increase the ammount of our data by 4x (4 ways of rotating an image) or more...\n",
    "class DogsVSCats():\n",
    "    IMG_SIZE = 50 # 50x50 pixels\n",
    "    CATS = \"Kaggle/PetImages/Cat\"\n",
    "    DOGS = \"Kaggle/PetImages/Dog\"\n",
    "    LABELS = {CATS: 0, DOGS: 1}\n",
    "    training_data = []\n",
    "    # A important fact to mention is the importance of balanced ammount of data for each class we are trying\n",
    "    # to disscerne. Therefore we will create counters here for each class\n",
    "    catcount = 0\n",
    "    dogcount = 0\n",
    "    \n",
    "    def make_training_data(self):\n",
    "        # iterate trough our dictionary of classes\n",
    "        for label in self.LABELS:\n",
    "            print(label)\n",
    "            # iterate trough images in directory\n",
    "            for f in tqdm(os.listdir(label)):\n",
    "                try: \n",
    "                    # We use the os.path.join functrion to add a label (0 or 1) to each image\n",
    "                    path = os.path.join(label, f)\n",
    "                    img = cv2.imread(path, cv2.IMREAD_GRAYSCALE) # converting to GRAYSCALE is not a necessity\n",
    "                    img = cv2.resize(img, (self.IMG_SIZE, self.IMG_SIZE))\n",
    "                    self.training_data.append([np.array(img), np.eye(2)[self.LABELS[label]]])\n",
    "\n",
    "                    if label == self.CATS:\n",
    "                        self.catcount += 1\n",
    "                    elif label == self.DOGS:\n",
    "                        self.dogcount += 1\n",
    "                    \n",
    "                except Exception as e:\n",
    "                    # For some images there is an exception, maybe it's because they are corrupted or \n",
    "                    # maybe it's the resize...\n",
    "                    pass\n",
    "                    #print(str(e))\n",
    "\n",
    "        np.random.shuffle(self.training_data)\n",
    "        np.save(\"training_data.npy\", self.training_data)\n",
    "        print(\"Cats:\", self.catcount)\n",
    "        print(\"Dogs:\", self.dogcount)\n",
    "\n",
    "# if we want to rebuild everything (takes long time)\n",
    "if REBUILD_DATA:\n",
    "    dogsvcats = DogsVSCats()\n",
    "    dogsvcats.make_training_data()\n",
    "    "
   ]
  },
  {
   "cell_type": "code",
   "execution_count": 5,
   "metadata": {},
   "outputs": [
    {
     "name": "stdout",
     "output_type": "stream",
     "text": [
      "24946\n"
     ]
    }
   ],
   "source": [
    "# We extract the training data so we don't have to create it again, for speeds sake\n",
    "# There is an issue with the pickle function.\n",
    "training_data = np.load(\"training_data.npy\", allow_pickle=True)\n",
    "print(len(training_data))"
   ]
  },
  {
   "cell_type": "code",
   "execution_count": 14,
   "metadata": {},
   "outputs": [
    {
     "data": {
      "image/png": "[encoded data removed]",
      "text/plain": [
       "<Figure size 432x288 with 1 Axes>"
      ]
     },
     "metadata": {},
     "output_type": "display_data"
    }
   ],
   "source": [
    "# We can use matplotlib to plot the image\n",
    "import matplotlib.pyplot as plt\n",
    "# We add gray to the plot function so we can better see what the CNN sees\n",
    "plt.imshow(training_data[0][0], cmap=\"gray\")\n",
    "plt.show()"
   ]
  },
  {
   "cell_type": "code",
   "execution_count": null,
   "metadata": {},
   "outputs": [],
   "source": []
  }
 ],
 "metadata": {
  "kernelspec": {
   "display_name": "Python 3",
   "language": "python",
   "name": "python3"
  },
  "language_info": {
   "codemirror_mode": {
    "name": "ipython",
    "version": 3
   },
   "file_extension": ".py",
   "mimetype": "text/x-python",
   "name": "python",
   "nbconvert_exporter": "python",
   "pygments_lexer": "ipython3",
   "version": "3.7.4"
  }
 },
 "nbformat": 4,
 "nbformat_minor": 4
}
