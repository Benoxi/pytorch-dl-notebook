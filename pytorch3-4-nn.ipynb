{
 "cells": [
  {
   "cell_type": "code",
   "execution_count": 1,
   "metadata": {},
   "outputs": [],
   "source": [
    "import torch\n",
    "import torchvision\n",
    "from torchvision import transforms, datasets\n",
    "\n",
    "train = datasets.MNIST(\"\", train=True, download=True, \n",
    "                       transform=transforms.Compose([transforms.ToTensor()]))\n",
    "\n",
    "test = datasets.MNIST(\"\", train=False , download=True, \n",
    "                       transform=transforms.Compose([transforms.ToTensor()]))\n",
    "\n",
    "trainset = torch.utils.data.DataLoader(train, batch_size=10, shuffle=True)\n",
    "testset = torch.utils.data.DataLoader(test, batch_size=10, shuffle=True)"
   ]
  },
  {
   "cell_type": "code",
   "execution_count": 2,
   "metadata": {},
   "outputs": [],
   "source": [
    "# this is for the general NN\n",
    "import torch.nn as nn\n",
    "# this is for specific functionality we are probably going to use\n",
    "import torch.nn.functional as F"
   ]
  },
  {
   "cell_type": "code",
   "execution_count": 3,
   "metadata": {},
   "outputs": [
    {
     "name": "stdout",
     "output_type": "stream",
     "text": [
      "Net(\n",
      "  (fc1): Linear(in_features=784, out_features=64, bias=True)\n",
      "  (fc2): Linear(in_features=64, out_features=64, bias=True)\n",
      "  (fc3): Linear(in_features=64, out_features=64, bias=True)\n",
      "  (fc4): Linear(in_features=64, out_features=10, bias=True)\n",
      ")\n"
     ]
    }
   ],
   "source": [
    "class Net(nn.Module):\n",
    "    def __init__(self):\n",
    "        # leaving out the super will trigger error !!!\n",
    "        super().__init__()\n",
    "        # 28*28 - flatened picture size for the input\n",
    "        # 64 - the chosen output (could be any number really)\n",
    "        self.fc1 = nn.Linear((28*28), 64)\n",
    "        # for each next fc, the input must be the same as the last output\n",
    "        self.fc2 = nn.Linear(64, 64)\n",
    "        self.fc3 = nn.Linear(64, 64)\n",
    "        # the last one is going to have ouput 10, because we are guessing number from 0-9\n",
    "        self.fc4 = nn.Linear(64, 10)\n",
    "        \n",
    "    # we define our network as feed forward!    \n",
    "    def forward(self, x):\n",
    "        # relu() - rectify lienar - activation function, decides wether the neuron is fired\n",
    "        x = F.relu(self.fc1(x))\n",
    "        x = F.relu(self.fc2(x))\n",
    "        x = F.relu(self.fc3(x))\n",
    "        # because the relu() runs on the output layer we do not want to run it on the\n",
    "        # last layer\n",
    "        x = self.fc4(x)\n",
    "        # no explanation for dim=1, just always use it\n",
    "        return F.log_softmax(x, dim=1)\n",
    "        \n",
    "        \n",
    "net = Net()\n",
    "# we can look at our NN, because there is an inbuilt function for print\n",
    "print(net)\n"
   ]
  },
  {
   "cell_type": "code",
   "execution_count": 4,
   "metadata": {},
   "outputs": [
    {
     "data": {
      "text/plain": [
       "tensor([[-2.4074, -2.3045, -2.2683, -2.4728, -2.2513, -2.4098, -2.2769, -2.1411,\n",
       "         -2.2396, -2.2966]], grad_fn=<LogSoftmaxBackward>)"
      ]
     },
     "execution_count": 4,
     "metadata": {},
     "output_type": "execute_result"
    }
   ],
   "source": [
    "X = torch.rand((28,28))\n",
    "# it is very important to format things EXACTLY like these libraries want them!\n",
    "# -1 - specefies that the input will be of an unknown shape\n",
    "X = X.view(-1, 28*28)\n",
    "output = net(X)\n",
    "output"
   ]
  },
  {
   "cell_type": "code",
   "execution_count": 6,
   "metadata": {},
   "outputs": [
    {
     "name": "stdout",
     "output_type": "stream",
     "text": [
      "tensor(0.0119, grad_fn=<NllLossBackward>)\n",
      "tensor(0.0020, grad_fn=<NllLossBackward>)\n",
      "tensor(0.0214, grad_fn=<NllLossBackward>)\n"
     ]
    }
   ],
   "source": [
    "import torch.optim as optim\n",
    "\n",
    "# net.parameters() - contains all the variables of the net that we can change/adjust\n",
    "# lr - learning rate - this corresponds to the way we decide if some output is correct, \n",
    "# where we can use a mathematical formula to check how much off we are and correct our\n",
    "# weight in such a way that it's going to be correct. But the problem with correcting each\n",
    "# perfectly is that we lose the overall (general) solution to the problem we are solving\n",
    "# and this is called overfitting. So the learning rate is in place here to tell our NN\n",
    "# by how much it should correct itself, which directly corresponds to how fast it learns.\n",
    "optimizer = optim.Adam(net.parameters(), lr=0.001)\n",
    "\n",
    "# A whole pass through our data is called an EPOCH\n",
    "EPOCHS = 3\n",
    "\n",
    "for epoch in range(EPOCHS):\n",
    "    for data in trainset:\n",
    "        # data is a batch of featuresets and labels\n",
    "        X, y = data\n",
    "        # printing the image \n",
    "        #print(X[0])\n",
    "        # printing the corresponding number\n",
    "        #print(y[0])\n",
    "        #break\n",
    "        # Everytime befor you pass data trough your NN\n",
    "        net.zero_grad()\n",
    "        # We batch our data because: \n",
    "        # 1.) It decreases training time (it's faster to train in baches)\n",
    "        # 2.) Between 32-128 of batch sizze helps generalizing\n",
    "        output = net(X.view(-1, 28*28))\n",
    "        # now we calculate how wrong are we\n",
    "        # nll_loss - if our data is a scalar\n",
    "        # mse_loss??? - if our data is a one hot vector [0, 1, 0, 0, 0]\n",
    "        loss = F.nll_loss(output, y)\n",
    "        # we backpropagate our loss\n",
    "        loss.backward()\n",
    "        # adjusts the weights for us\n",
    "        optimizer.step()\n",
    "    print(loss)\n",
    "    # what we actually want to see at this point is accuarcy.\n",
    "        \n",
    "        "
   ]
  },
  {
   "cell_type": "code",
   "execution_count": 8,
   "metadata": {},
   "outputs": [
    {
     "name": "stdout",
     "output_type": "stream",
     "text": [
      "Accuarcy:  0.982\n"
     ]
    }
   ],
   "source": [
    "correct = 0\n",
    "total = 0\n",
    "\n",
    "with torch.no_grad():\n",
    "    for data in trainset:\n",
    "        X, y = data\n",
    "        output = net(X.view(-1, 784))\n",
    "        for idx, i in enumerate(output):\n",
    "            if torch.argmax(i) == y[idx]:\n",
    "                correct += 1\n",
    "            total += 1\n",
    "            \n",
    "print(\"Accuarcy: \", round(correct/total, 3))"
   ]
  },
  {
   "cell_type": "code",
   "execution_count": 14,
   "metadata": {},
   "outputs": [
    {
     "data": {
      "image/png": "[encoded data removed]",
      "text/plain": [
       "<Figure size 432x288 with 1 Axes>"
      ]
     },
     "metadata": {},
     "output_type": "display_data"
    },
    {
     "name": "stdout",
     "output_type": "stream",
     "text": [
      "tensor(2)\n"
     ]
    }
   ],
   "source": [
    "import matplotlib.pyplot as plt\n",
    "predict_num = 3\n",
    "plt.imshow(X[predict_num].view(28,28))\n",
    "plt.show()\n",
    "print(torch.argmax(net(X[predict_num].view(-1, 784))[0]))"
   ]
  },
  {
   "cell_type": "code",
   "execution_count": null,
   "metadata": {},
   "outputs": [],
   "source": []
  }
 ],
 "metadata": {
  "kernelspec": {
   "display_name": "Python 3",
   "language": "python",
   "name": "python3"
  },
  "language_info": {
   "codemirror_mode": {
    "name": "ipython",
    "version": 3
   },
   "file_extension": ".py",
   "mimetype": "text/x-python",
   "name": "python",
   "nbconvert_exporter": "python",
   "pygments_lexer": "ipython3",
   "version": "3.7.4"
  }
 },
 "nbformat": 4,
 "nbformat_minor": 4
}
